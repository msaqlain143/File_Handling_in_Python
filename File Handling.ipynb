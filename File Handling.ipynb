{
 "cells": [
  {
   "cell_type": "markdown",
   "metadata": {},
   "source": [
    "# File Handling in Python"
   ]
  },
  {
   "cell_type": "markdown",
   "metadata": {},
   "source": [
    "In Python, file handling is crucial for various web applications. The access modes control the types of activities that can be performed on an opened file and determine the position of the file handle within the file, akin to a pointer. There are six main access modes in Python:\n",
    "\n",
    "**Read Only ('r'):** Opens the text file for reading only. Raises an I/O error if the file doesn't exist. The file handle is positioned at the start of the file.\n",
    "\n",
    "**Read and Write ('r+'):** Opens the file for both reading and writing. If the file doesn't exist, it raises an I/O error. The file handle is placed at the start of the file.\n",
    "\n",
    "**Write Only ('w'):** Opens the file for writing only. Modifies and overwrites the data in existing files. If the file doesn't exist, it creates a new one. The file handle is positioned at the start of the file.\n",
    "\n",
    "**Write and Read ('w+'):** Opens the file for both reading and writing. It overwrites and deletes existing text in the file. The file handle is positioned at the start of the file.\n",
    "\n",
    "**Append Only ('a'):** Opens the file for writing. Creates a new file if it doesn't exist. The handle is set at the end of the file, allowing new data to be added at the end.\n",
    "\n",
    "**Append and Read ('a+'):** Enables reading and writing in the file. Creates a new file if it doesn't exist. The handle is set at the end of the file, allowing newly written text to be added at the end.\n",
    "\n",
    "These modes are vital for various file operations, including creating, reading, and writing text files in Python."
   ]
  },
  {
   "cell_type": "markdown",
   "metadata": {},
   "source": [
    "## How to Create Files in Python"
   ]
  },
  {
   "cell_type": "markdown",
   "metadata": {},
   "source": [
    "In Python, you use the open() function with one of the following options – \"x\" or \"w\" – to create a new file:"
   ]
  },
  {
   "cell_type": "markdown",
   "metadata": {},
   "source": [
    "### \"x\" – Create:"
   ]
  },
  {
   "cell_type": "code",
   "execution_count": 1,
   "metadata": {},
   "outputs": [
    {
     "ename": "<class 'FileExistsError'>",
     "evalue": "[Errno 20] File exists: 'newfile.txt'",
     "output_type": "error",
     "traceback": [
      "\u001b[0;31m---------------------------------------------------------------------------\u001b[0m",
      "\u001b[0;31mFileExistsError\u001b[0m                           Traceback (most recent call last)",
      "Cell \u001b[0;32mIn[1], line 3\u001b[0m\n\u001b[1;32m      1\u001b[0m \u001b[38;5;66;03m#creating a text file with the command function \"x\"\u001b[39;00m\n\u001b[0;32m----> 3\u001b[0m f \u001b[38;5;241m=\u001b[39m \u001b[38;5;28;43mopen\u001b[39;49m\u001b[43m(\u001b[49m\u001b[38;5;124;43m\"\u001b[39;49m\u001b[38;5;124;43mnewfile.txt\u001b[39;49m\u001b[38;5;124;43m\"\u001b[39;49m\u001b[43m,\u001b[49m\u001b[43m \u001b[49m\u001b[38;5;124;43m\"\u001b[39;49m\u001b[38;5;124;43mx\u001b[39;49m\u001b[38;5;124;43m\"\u001b[39;49m\u001b[43m)\u001b[49m\n",
      "File \u001b[0;32m/lib/python3.11/site-packages/IPython/core/interactiveshell.py:286\u001b[0m, in \u001b[0;36m_modified_open\u001b[0;34m(file, *args, **kwargs)\u001b[0m\n\u001b[1;32m    279\u001b[0m \u001b[38;5;28;01mif\u001b[39;00m file \u001b[38;5;129;01min\u001b[39;00m {\u001b[38;5;241m0\u001b[39m, \u001b[38;5;241m1\u001b[39m, \u001b[38;5;241m2\u001b[39m}:\n\u001b[1;32m    280\u001b[0m     \u001b[38;5;28;01mraise\u001b[39;00m \u001b[38;5;167;01mValueError\u001b[39;00m(\n\u001b[1;32m    281\u001b[0m         \u001b[38;5;124mf\u001b[39m\u001b[38;5;124m\"\u001b[39m\u001b[38;5;124mIPython won\u001b[39m\u001b[38;5;124m'\u001b[39m\u001b[38;5;124mt let you open fd=\u001b[39m\u001b[38;5;132;01m{\u001b[39;00mfile\u001b[38;5;132;01m}\u001b[39;00m\u001b[38;5;124m by default \u001b[39m\u001b[38;5;124m\"\u001b[39m\n\u001b[1;32m    282\u001b[0m         \u001b[38;5;124m\"\u001b[39m\u001b[38;5;124mas it is likely to crash IPython. If you know what you are doing, \u001b[39m\u001b[38;5;124m\"\u001b[39m\n\u001b[1;32m    283\u001b[0m         \u001b[38;5;124m\"\u001b[39m\u001b[38;5;124myou can use builtins\u001b[39m\u001b[38;5;124m'\u001b[39m\u001b[38;5;124m open.\u001b[39m\u001b[38;5;124m\"\u001b[39m\n\u001b[1;32m    284\u001b[0m     )\n\u001b[0;32m--> 286\u001b[0m \u001b[38;5;28;01mreturn\u001b[39;00m \u001b[43mio_open\u001b[49m\u001b[43m(\u001b[49m\u001b[43mfile\u001b[49m\u001b[43m,\u001b[49m\u001b[43m \u001b[49m\u001b[38;5;241;43m*\u001b[39;49m\u001b[43margs\u001b[49m\u001b[43m,\u001b[49m\u001b[43m \u001b[49m\u001b[38;5;241;43m*\u001b[39;49m\u001b[38;5;241;43m*\u001b[39;49m\u001b[43mkwargs\u001b[49m\u001b[43m)\u001b[49m\n",
      "\u001b[0;31mFileExistsError\u001b[0m: [Errno 20] File exists: 'newfile.txt'"
     ]
    }
   ],
   "source": [
    "#creating a text file with the command function \"x\"\n",
    "\n",
    "f = open(\"newfile.txt\", \"x\")"
   ]
  },
  {
   "cell_type": "markdown",
   "metadata": {},
   "source": [
    "After creating an empty text file, attempting to recreate a file with the same name will result in an error message indicating that the file already exists."
   ]
  },
  {
   "cell_type": "markdown",
   "metadata": {},
   "source": [
    "### \"w\" – Write:"
   ]
  },
  {
   "cell_type": "code",
   "execution_count": 2,
   "metadata": {},
   "outputs": [],
   "source": [
    "#creating a text file with the command function \"w\"\n",
    "\n",
    "f = open(\"newfile.txt\", \"w\")\n",
    "\n",
    "#This \"w\" command can also be used create a new file but unlike the the \"x\" command the \"w\" command will overwrite any existing file found with the same file name."
   ]
  },
  {
   "cell_type": "markdown",
   "metadata": {},
   "source": [
    "With the code above, whether the file exists or the file doesn't exist in the memory, you can still go ahead and use that code. Just keep in mind that it will overwrite the file if it finds an existing file with the same name."
   ]
  },
  {
   "cell_type": "markdown",
   "metadata": {},
   "source": [
    "## How to Write to a File in Python"
   ]
  },
  {
   "cell_type": "markdown",
   "metadata": {},
   "source": [
    "### The write() method:"
   ]
  },
  {
   "cell_type": "markdown",
   "metadata": {},
   "source": [
    "This function inserts the string into the text file on a single line."
   ]
  },
  {
   "cell_type": "code",
   "execution_count": 3,
   "metadata": {},
   "outputs": [
    {
     "data": {
      "text/plain": [
       "12"
      ]
     },
     "execution_count": 3,
     "metadata": {},
     "output_type": "execute_result"
    }
   ],
   "source": [
    "f.write(\"Hello There\\n\")"
   ]
  },
  {
   "cell_type": "markdown",
   "metadata": {},
   "source": [
    "### The writelines() method:"
   ]
  },
  {
   "cell_type": "markdown",
   "metadata": {},
   "source": [
    "This function inserts multiple strings at the same time. A list of string elements is created, and each string is then added to the text file."
   ]
  },
  {
   "cell_type": "code",
   "execution_count": 4,
   "metadata": {},
   "outputs": [],
   "source": [
    "f.writelines([\"Hello World \", \"You are welcome to Fcc\\n\"])"
   ]
  },
  {
   "cell_type": "markdown",
   "metadata": {},
   "source": [
    "## Example:"
   ]
  },
  {
   "cell_type": "code",
   "execution_count": 5,
   "metadata": {},
   "outputs": [],
   "source": [
    "#This program shows how to write data in a text file.\n",
    "\n",
    "file = open(\"newfile.txt\",\"w\")\n",
    "L = [\"This is Lagos \\n\",\"This is Python \\n\",\"This is Fcc \\n\"]\n",
    "\n",
    "# i assigned [\"This is Lagos \\n\",\"This is Python \\n\",\"This is Fcc \\n\"] to #variable L, you can use any letter or word of your choice.\n",
    "# Variable are containers in which values can be stored.\n",
    "# The \\n is placed to indicate the end of the line.\n",
    "\n",
    "file.write(\"Hello There \\n\")\n",
    "file.writelines(L)\n",
    "file.close()\n",
    "\n",
    "# Use the close() to change file access modes"
   ]
  },
  {
   "cell_type": "markdown",
   "metadata": {},
   "source": [
    "## How to Append to a File"
   ]
  },
  {
   "cell_type": "markdown",
   "metadata": {},
   "source": [
    "The 'write' mode ('w') overwrites existing file content or creates a new file if it doesn't exist, positioning the file pointer at the beginning. In contrast, the 'append' mode ('a') adds data to the end of the file without overwriting existing content, creating a new file if necessary and positioning the file pointer at the end."
   ]
  },
  {
   "cell_type": "markdown",
   "metadata": {},
   "source": [
    "To append to a file in Python, you can use the 'a' or 'a+' mode when opening the file. Here is an example:"
   ]
  },
  {
   "cell_type": "code",
   "execution_count": 22,
   "metadata": {},
   "outputs": [],
   "source": [
    "paragraph = \"Artificial Intelligence (AI) refers to the simulation of human intelligence in machines that are programmed to think and act like humans. It involves the development of computer systems capable of performing tasks that typically require human intelligence, such as visual perception, speech recognition, decision-making, and language translation. AI aims to create intelligent machines that can learn from experience, adjust to new inputs, and perform human-like tasks. These systems are designed to emulate cognitive functions such as learning, problem-solving, and pattern recognition, enabling them to make decisions and solve complex problems autonomously.\"\n",
    "\n",
    "# Separating sentences and creating a list\n",
    "sentences = [sentence.strip() for sentence in paragraph.split('.') if sentence.strip()]\n",
    "\n",
    "f = open(\"newfile.txt\", 'a')\n",
    "f.writelines(sentences)\n",
    "f.close()"
   ]
  },
  {
   "cell_type": "markdown",
   "metadata": {},
   "source": [
    "## How to Read From a Text File in Python"
   ]
  },
  {
   "cell_type": "markdown",
   "metadata": {},
   "source": [
    "There are three methods of reading data from a text file in Python. They are:"
   ]
  },
  {
   "cell_type": "markdown",
   "metadata": {},
   "source": [
    "### The read() method:"
   ]
  },
  {
   "cell_type": "markdown",
   "metadata": {},
   "source": [
    "This function returns the bytes read as a string. If no n is specified, it then reads the entire file."
   ]
  },
  {
   "cell_type": "code",
   "execution_count": 7,
   "metadata": {},
   "outputs": [
    {
     "name": "stdout",
     "output_type": "stream",
     "text": [
      "Hello There \n",
      "This is Lagos \n",
      "This is Python \n",
      "This is Fcc \n",
      "Hello, This is an appended line.Hello, This is an appended line.Hello, This is an appended line.\n"
     ]
    }
   ],
   "source": [
    "f = open(\"newfile.txt\", \"r\")\n",
    "#('r’) opens the text files for reading only\n",
    "print(f.read())\n",
    "#The \"f.read\" prints out the data in the text file in the shell when run."
   ]
  },
  {
   "cell_type": "markdown",
   "metadata": {},
   "source": [
    "### The readline() method:"
   ]
  },
  {
   "cell_type": "markdown",
   "metadata": {},
   "source": [
    "This function reads a line from a file and returns it as a string. It reads at most n bytes for the specified n. But even if n is greater than the length of the line, it does not read more than one line."
   ]
  },
  {
   "cell_type": "code",
   "execution_count": 8,
   "metadata": {},
   "outputs": [
    {
     "name": "stdout",
     "output_type": "stream",
     "text": [
      "Hello There \n",
      "\n"
     ]
    }
   ],
   "source": [
    "f = open(\"newfile.txt\", \"r\")\n",
    "print(f.readline())"
   ]
  },
  {
   "cell_type": "markdown",
   "metadata": {},
   "source": [
    "### The readlines() method:"
   ]
  },
  {
   "cell_type": "markdown",
   "metadata": {},
   "source": [
    "This function reads all of the lines and returns them as string elements in a list, one for each line."
   ]
  },
  {
   "cell_type": "code",
   "execution_count": 9,
   "metadata": {},
   "outputs": [
    {
     "name": "stdout",
     "output_type": "stream",
     "text": [
      "['Hello There \\n', 'This is Lagos \\n', 'This is Python \\n', 'This is Fcc \\n', 'Hello, This is an appended line.Hello, This is an appended line.Hello, This is an appended line.']\n"
     ]
    }
   ],
   "source": [
    "f = open(\"newfile.txt\", \"r\")\n",
    "print(f.readlines())"
   ]
  },
  {
   "cell_type": "code",
   "execution_count": 10,
   "metadata": {},
   "outputs": [
    {
     "name": "stdout",
     "output_type": "stream",
     "text": [
      "Hello There \n",
      "\n",
      "This is Lagos \n",
      "\n",
      "This is Python \n",
      "\n",
      "This is Fcc \n",
      "\n",
      "Hello, This is an appended line.Hello, This is an appended line.Hello, This is an appended line.\n"
     ]
    }
   ],
   "source": [
    "f = open(\"newfile.txt\", \"r\")\n",
    "lines = f.readlines()\n",
    "\n",
    "for line in lines:\n",
    "    print(line)"
   ]
  },
  {
   "cell_type": "markdown",
   "metadata": {},
   "source": [
    "## How to Close a Text File in Python"
   ]
  },
  {
   "cell_type": "markdown",
   "metadata": {},
   "source": [
    "It is good practice to always close the file when you are done with it."
   ]
  },
  {
   "cell_type": "code",
   "execution_count": 11,
   "metadata": {},
   "outputs": [
    {
     "name": "stdout",
     "output_type": "stream",
     "text": [
      "Hello There \n",
      "\n"
     ]
    }
   ],
   "source": [
    "f = open(\"newfile.txt\", \"r\")\n",
    "print(f.readline())\n",
    "f.close()"
   ]
  },
  {
   "cell_type": "markdown",
   "metadata": {},
   "source": [
    "## Examples:"
   ]
  },
  {
   "cell_type": "markdown",
   "metadata": {},
   "source": [
    "These examples below shows more examples of ways to read and write data in a text file. Each line of code has comments to help you understand what's going on:"
   ]
  },
  {
   "cell_type": "code",
   "execution_count": 12,
   "metadata": {},
   "outputs": [],
   "source": [
    "# Program to show various ways to read and\n",
    "# write data in a text file.\n",
    "\n",
    "file = open(\"newfile.txt\",\"w\")\n",
    "L = [\"This is Lagos \\n\",\"This is Python \\n\",\"This is Fcc \\n\"]\n",
    "\n",
    "#i assigned [\"This is Lagos \\n\",\"This is Python \\n\",\"This is Fcc \\n\"]\n",
    "#to variable L\n",
    "  \n",
    "#The \\n is placed to indicate End of Line\n",
    "\n",
    "file.write(\"Hello There \\n\")\n",
    "file.writelines(L)\n",
    "file.close()\n",
    "# use the close() to change file access modes"
   ]
  },
  {
   "cell_type": "code",
   "execution_count": 13,
   "metadata": {},
   "outputs": [
    {
     "name": "stdout",
     "output_type": "stream",
     "text": [
      "Output of the Read function is \n",
      "Hello There \n",
      "This is Lagos \n",
      "This is Python \n",
      "This is Fcc \n",
      "Hello, This is an appended line.Hello, This is an appended line.Hello, This is an appended line.\n",
      "\n"
     ]
    }
   ],
   "source": [
    "file = open(\"newfile.txt\",\"r+\") \n",
    "print(\"Output of the Read function is \")\n",
    "print(file.read())\n",
    "print()"
   ]
  },
  {
   "cell_type": "code",
   "execution_count": 14,
   "metadata": {},
   "outputs": [
    {
     "name": "stdout",
     "output_type": "stream",
     "text": [
      "The output of the Readline function is \n",
      "Hello There \n",
      "\n",
      "\n"
     ]
    }
   ],
   "source": [
    "# The seek(n) takes the file handle to the nth\n",
    "# byte from the start.\n",
    "file.seek(0) \n",
    "  \n",
    "print( \"The output of the Readline function is \")\n",
    "print(file.readline()) \n",
    "print()"
   ]
  },
  {
   "cell_type": "code",
   "execution_count": 15,
   "metadata": {},
   "outputs": [
    {
     "name": "stdout",
     "output_type": "stream",
     "text": [
      "Output of Read(12) function is \n",
      "Hello There \n",
      "\n"
     ]
    }
   ],
   "source": [
    "file.seek(0)\n",
    "  \n",
    "# To show difference between read and readline\n",
    "\n",
    "print(\"Output of Read(12) function is \") \n",
    "print(file.read(12))\n",
    "print()"
   ]
  },
  {
   "cell_type": "code",
   "execution_count": 16,
   "metadata": {},
   "outputs": [
    {
     "name": "stdout",
     "output_type": "stream",
     "text": [
      "Output of Readline(8) function is \n",
      "Hello Th\n"
     ]
    }
   ],
   "source": [
    "file.seek(0)\n",
    "  \n",
    "print(\"Output of Readline(8) function is \") \n",
    "print(file.readline(8))"
   ]
  },
  {
   "cell_type": "code",
   "execution_count": 17,
   "metadata": {},
   "outputs": [
    {
     "name": "stdout",
     "output_type": "stream",
     "text": [
      "Output of Readlines function is \n",
      "['Hello There \\n', 'This is Lagos \\n', 'This is Python \\n', 'This is Fcc \\n', 'Hello, This is an appended line.Hello, This is an appended line.Hello, This is an appended line.']\n",
      "\n"
     ]
    }
   ],
   "source": [
    "file.seek(0)\n",
    "# readlines function\n",
    "print(\"Output of Readlines function is \") \n",
    "print(file.readlines()) \n",
    "print()\n",
    "file.close()"
   ]
  },
  {
   "cell_type": "markdown",
   "metadata": {},
   "source": [
    "## Some Practical Examples:"
   ]
  },
  {
   "cell_type": "markdown",
   "metadata": {},
   "source": [
    "### Reading the File and Counting Lines, Sentences, and Words:"
   ]
  },
  {
   "cell_type": "code",
   "execution_count": 18,
   "metadata": {},
   "outputs": [
    {
     "name": "stdout",
     "output_type": "stream",
     "text": [
      "Number of lines: 5\n",
      "Number of words: 27\n",
      "Number of sentences: 8\n"
     ]
    }
   ],
   "source": [
    "# Reading the file and counting lines, sentences, and words\n",
    "with open('newfile.txt', 'r') as file:\n",
    "    data = file.readlines()\n",
    "\n",
    "line_count = len(data)\n",
    "word_count = 0\n",
    "sentence_count = 0\n",
    "\n",
    "for line in data:\n",
    "    words = line.split()\n",
    "    word_count += len(words)\n",
    "    sentences = line.split('.')\n",
    "    sentence_count += len(sentences)\n",
    "\n",
    "# Displaying the results\n",
    "print(f\"Number of lines: {line_count}\")\n",
    "print(f\"Number of words: {word_count}\")\n",
    "print(f\"Number of sentences: {sentence_count}\")\n"
   ]
  },
  {
   "cell_type": "markdown",
   "metadata": {},
   "source": [
    "### Counting Sentences and Words in Each Line:"
   ]
  },
  {
   "cell_type": "code",
   "execution_count": 19,
   "metadata": {},
   "outputs": [
    {
     "name": "stdout",
     "output_type": "stream",
     "text": [
      "Number of sentences in line 1: 1\n",
      "Number of words in line 1: 2\n",
      "Number of sentences in line 2: 1\n",
      "Number of words in line 2: 3\n",
      "Number of sentences in line 3: 1\n",
      "Number of words in line 3: 3\n",
      "Number of sentences in line 4: 1\n",
      "Number of words in line 4: 3\n",
      "Number of sentences in line 5: 4\n",
      "Number of words in line 5: 16\n"
     ]
    }
   ],
   "source": [
    "# Reading the file and counting lines, sentences, and words\n",
    "with open('newfile.txt', 'r') as file:\n",
    "    data = file.readlines()\n",
    "\n",
    "# Counting sentences and words in each line\n",
    "for i, line in enumerate(data, start=1):\n",
    "    sentences = line.split('.')\n",
    "    print(f\"Number of sentences in line {i}: {len(sentences)}\")\n",
    "    words = line.split()\n",
    "    print(f\"Number of words in line {i}: {len(words)}\")"
   ]
  },
  {
   "cell_type": "markdown",
   "metadata": {},
   "source": [
    "### Counting Words in Each Sentence:"
   ]
  },
  {
   "cell_type": "code",
   "execution_count": 20,
   "metadata": {},
   "outputs": [
    {
     "name": "stdout",
     "output_type": "stream",
     "text": [
      "Number of words in each sentence: 2\n",
      "Number of words in each sentence: 3\n",
      "Number of words in each sentence: 3\n",
      "Number of words in each sentence: 3\n",
      "Number of words in each sentence: 6\n",
      "Number of words in each sentence: 6\n",
      "Number of words in each sentence: 6\n",
      "Number of words in each sentence: 0\n"
     ]
    }
   ],
   "source": [
    "# Reading the file and counting lines, sentences, and words\n",
    "with open('newfile.txt', 'r') as file:\n",
    "    data = file.readlines()\n",
    "    \n",
    "# Counting words in each sentence\n",
    "for line in data:\n",
    "    sentences = line.split('.')\n",
    "    for sentence in sentences:\n",
    "        words_in_sentence = sentence.split()\n",
    "        print(f\"Number of words in each sentence: {len(words_in_sentence)}\")\n"
   ]
  },
  {
   "cell_type": "markdown",
   "metadata": {},
   "source": [
    "### Calculating Word Frequencies:"
   ]
  },
  {
   "cell_type": "code",
   "execution_count": 23,
   "metadata": {},
   "outputs": [
    {
     "name": "stdout",
     "output_type": "stream",
     "text": [
      "Word Frequencies:\n",
      "Hello: 1\n",
      "There: 1\n",
      "This: 6\n",
      "is: 6\n",
      "Lagos: 1\n",
      "Python: 1\n",
      "Fcc: 1\n",
      "Hello,: 1\n",
      "an: 3\n",
      "appended: 3\n",
      "line.Hello,: 2\n",
      "line.Artificial: 1\n",
      "Intelligence: 1\n",
      "(AI): 1\n",
      "refers: 1\n",
      "to: 6\n",
      "the: 2\n",
      "simulation: 1\n",
      "of: 3\n",
      "human: 2\n",
      "intelligence: 1\n",
      "in: 1\n",
      "machines: 2\n",
      "that: 3\n",
      "are: 2\n",
      "programmed: 1\n",
      "think: 1\n",
      "and: 5\n",
      "act: 1\n",
      "like: 1\n",
      "humansIt: 1\n",
      "involves: 1\n",
      "development: 1\n",
      "computer: 1\n",
      "systems: 2\n",
      "capable: 1\n",
      "performing: 1\n",
      "tasks: 1\n",
      "typically: 1\n",
      "require: 1\n",
      "intelligence,: 1\n",
      "such: 2\n",
      "as: 2\n",
      "visual: 1\n",
      "perception,: 1\n",
      "speech: 1\n",
      "recognition,: 2\n",
      "decision-making,: 1\n",
      "language: 1\n",
      "translationAI: 1\n",
      "aims: 1\n",
      "create: 1\n",
      "intelligent: 1\n",
      "can: 1\n",
      "learn: 1\n",
      "from: 1\n",
      "experience,: 1\n",
      "adjust: 1\n",
      "new: 1\n",
      "inputs,: 1\n",
      "perform: 1\n",
      "human-like: 1\n",
      "tasksThese: 1\n",
      "designed: 1\n",
      "emulate: 1\n",
      "cognitive: 1\n",
      "functions: 1\n",
      "learning,: 1\n",
      "problem-solving,: 1\n",
      "pattern: 1\n",
      "enabling: 1\n",
      "them: 1\n",
      "make: 1\n",
      "decisions: 1\n",
      "solve: 1\n",
      "complex: 1\n",
      "problems: 1\n",
      "autonomously: 1\n"
     ]
    }
   ],
   "source": [
    "# Reading the file and counting lines, sentences, and words\n",
    "with open('newfile.txt', 'r') as file:\n",
    "    data = file.readlines()\n",
    "    \n",
    "# Calculating word frequencies\n",
    "word_freq = {}\n",
    "for line in data:\n",
    "    words = line.split()\n",
    "    for word in words:\n",
    "        word_freq[word] = word_freq.get(word, 0) + 1\n",
    "\n",
    "# Displaying word frequencies\n",
    "print(\"Word Frequencies:\")\n",
    "for word, freq in word_freq.items():\n",
    "    print(f\"{word}: {freq}\")\n"
   ]
  },
  {
   "cell_type": "code",
   "execution_count": null,
   "metadata": {},
   "outputs": [],
   "source": []
  }
 ],
 "metadata": {
  "kernelspec": {
   "display_name": "Python 3 (ipykernel)",
   "language": "python",
   "name": "python3"
  },
  "language_info": {
   "codemirror_mode": {
    "name": "ipython",
    "version": 3
   },
   "file_extension": ".py",
   "mimetype": "text/x-python",
   "name": "python",
   "nbconvert_exporter": "python",
   "pygments_lexer": "ipython3",
   "version": "3.11.4"
  }
 },
 "nbformat": 4,
 "nbformat_minor": 4
}
